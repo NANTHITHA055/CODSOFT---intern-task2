{
  "nbformat": 4,
  "nbformat_minor": 0,
  "metadata": {
    "colab": {
      "provenance": []
    },
    "kernelspec": {
      "name": "python3",
      "display_name": "Python 3"
    },
    "language_info": {
      "name": "python"
    }
  },
  "cells": [
    {
      "cell_type": "code",
      "execution_count": null,
      "metadata": {
        "colab": {
          "base_uri": "https://localhost:8080/"
        },
        "id": "HLyEtB1YrR9u",
        "outputId": "20a36ae3-dd24-4565-8cf4-e867c5d267bf"
      },
      "outputs": [
        {
          "output_type": "stream",
          "name": "stdout",
          "text": [
            "Recommendations based on user preferences:\n",
            "movie1: Similarity score - 2\n",
            "movie3: Similarity score - 1\n",
            "movie2: Similarity score - 0\n",
            "movie4: Similarity score - 0\n",
            "movie5: Similarity score - 0\n"
          ]
        }
      ],
      "source": [
        "class ContentBasedFiltering:\n",
        "    def __init__(self):\n",
        "        # Sample data of items and their features\n",
        "        self.items = {\n",
        "            'movie1': {'genre': 'action', 'rating': 4.5},\n",
        "            'movie2': {'genre': 'comedy', 'rating': 3.8},\n",
        "            'movie3': {'genre': 'action', 'rating': 4.0},\n",
        "            'movie4': {'genre': 'drama', 'rating': 4.2},\n",
        "            'movie5': {'genre': 'comedy', 'rating': 3.5}\n",
        "        }\n",
        "\n",
        "    def get_recommendations(self, user_preferences):\n",
        "        # Calculate similarity scores between user preferences and items\n",
        "        recommendations = {}\n",
        "        for item, features in self.items.items():\n",
        "            similarity_score = 0\n",
        "            for feature, value in user_preferences.items():\n",
        "                if feature in features and features[feature] == value:\n",
        "                    similarity_score += 1\n",
        "            recommendations[item] = similarity_score\n",
        "\n",
        "        # Sort recommendations by similarity score in descending order\n",
        "        sorted_recommendations = sorted(recommendations.items(), key=lambda x: x[1], reverse=True)\n",
        "\n",
        "        return sorted_recommendations\n",
        "\n",
        "# Example usage\n",
        "cb_filter = ContentBasedFiltering()\n",
        "user_preferences = {'genre': 'action', 'rating': 4.5}\n",
        "recommendations = cb_filter.get_recommendations(user_preferences)\n",
        "\n",
        "print(\"Recommendations based on user preferences:\")\n",
        "for movie, score in recommendations:\n",
        "    print(f\"{movie}: Similarity score - {score}\")\n"
      ]
    }
  ]
}